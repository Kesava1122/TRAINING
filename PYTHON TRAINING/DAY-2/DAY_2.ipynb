{
  "nbformat": 4,
  "nbformat_minor": 0,
  "metadata": {
    "colab": {
      "provenance": []
    },
    "kernelspec": {
      "name": "python3",
      "display_name": "Python 3"
    },
    "language_info": {
      "name": "python"
    }
  },
  "cells": [
    {
      "cell_type": "markdown",
      "source": [
        "creating a code for importing a file\n"
      ],
      "metadata": {
        "id": "WYsdL8Dm7M8c"
      }
    },
    {
      "cell_type": "code",
      "source": [
        "import pandas as pd\n",
        "\n",
        "# Provide the file path (update with your file location)\n",
        "file_path = '/content/search_engine_data.csv'\n",
        "import pandas as pd\n",
        "\n",
        "# Provide the file path (update with your file location)\n",
        "file_path = '/content/search_engine_data.csv'\n",
        "\n",
        "# Load the CSV file into a DataFrame\n",
        "data = pd.read_csv(file_path)\n",
        "\n",
        "# Display the first few rows of the DataFrame\n",
        "print(data.head())\n",
        "\n",
        "\n",
        "print(data.head())\n"
      ],
      "metadata": {
        "colab": {
          "base_uri": "https://localhost:8080/"
        },
        "id": "DuuCaj017mex",
        "outputId": "f3a64533-4e8d-40ff-dce2-a1a289e196e2"
      },
      "execution_count": 12,
      "outputs": [
        {
          "output_type": "stream",
          "name": "stdout",
          "text": [
            "      Date  Google  bing  Yahoo!  Baidu  YANDEX  YANDEX RU  Ask Jeeves  \\\n",
            "0  2009-01   90.25   0.0    5.91   0.00     0.0       0.16        0.40   \n",
            "1  2009-02   89.69   0.0    5.74   0.00     0.0       0.19        0.39   \n",
            "2  2009-03   89.14   0.0    6.01   0.21     0.0       0.18        0.41   \n",
            "3  2009-04   89.91   0.0    5.47   0.22     0.0       0.20        0.37   \n",
            "4  2009-05   89.86   0.0    5.25   0.38     0.0       0.21        0.40   \n",
            "\n",
            "   DuckDuckGo  Naver  ...  Mail.ru  Ecosia  Webcrawler  Daum  CocCoc  \\\n",
            "0         0.0   0.00  ...      0.0     0.0        0.00   0.0     0.0   \n",
            "1         0.0   0.01  ...      0.0     0.0        0.00   0.0     0.0   \n",
            "2         0.0   0.01  ...      0.0     0.0        0.01   0.0     0.0   \n",
            "3         0.0   0.02  ...      0.0     0.0        0.04   0.0     0.0   \n",
            "4         0.0   0.02  ...      0.0     0.0        0.04   0.0     0.0   \n",
            "\n",
            "   StartPagina (Google)  AVG Search  SweetIM  Windows Live  Other  \n",
            "0                  0.07         0.0      0.0          1.09   0.28  \n",
            "1                  0.07         0.0      0.0          1.79   0.20  \n",
            "2                  0.07         0.0      0.0          1.80   0.19  \n",
            "3                  0.05         0.0      0.0          1.81   0.18  \n",
            "4                  0.06         0.0      0.0          1.86   0.17  \n",
            "\n",
            "[5 rows x 28 columns]\n",
            "      Date  Google  bing  Yahoo!  Baidu  YANDEX  YANDEX RU  Ask Jeeves  \\\n",
            "0  2009-01   90.25   0.0    5.91   0.00     0.0       0.16        0.40   \n",
            "1  2009-02   89.69   0.0    5.74   0.00     0.0       0.19        0.39   \n",
            "2  2009-03   89.14   0.0    6.01   0.21     0.0       0.18        0.41   \n",
            "3  2009-04   89.91   0.0    5.47   0.22     0.0       0.20        0.37   \n",
            "4  2009-05   89.86   0.0    5.25   0.38     0.0       0.21        0.40   \n",
            "\n",
            "   DuckDuckGo  Naver  ...  Mail.ru  Ecosia  Webcrawler  Daum  CocCoc  \\\n",
            "0         0.0   0.00  ...      0.0     0.0        0.00   0.0     0.0   \n",
            "1         0.0   0.01  ...      0.0     0.0        0.00   0.0     0.0   \n",
            "2         0.0   0.01  ...      0.0     0.0        0.01   0.0     0.0   \n",
            "3         0.0   0.02  ...      0.0     0.0        0.04   0.0     0.0   \n",
            "4         0.0   0.02  ...      0.0     0.0        0.04   0.0     0.0   \n",
            "\n",
            "   StartPagina (Google)  AVG Search  SweetIM  Windows Live  Other  \n",
            "0                  0.07         0.0      0.0          1.09   0.28  \n",
            "1                  0.07         0.0      0.0          1.79   0.20  \n",
            "2                  0.07         0.0      0.0          1.80   0.19  \n",
            "3                  0.05         0.0      0.0          1.81   0.18  \n",
            "4                  0.06         0.0      0.0          1.86   0.17  \n",
            "\n",
            "[5 rows x 28 columns]\n"
          ]
        }
      ]
    },
    {
      "cell_type": "markdown",
      "source": [
        "MEAN"
      ],
      "metadata": {
        "id": "YQXxV2iIQHsh"
      }
    },
    {
      "cell_type": "code",
      "source": [
        "import pandas as pd\n",
        "\n",
        "# Load the CSV file\n",
        "file_path = \"/content/search_engine_data.csv\"  # Replace with the path to your file\n",
        "data = pd.read_csv(file_path)\n",
        "\n",
        "# Calculate the MEAN for numerical columns\n",
        "means = data.mean(numeric_only=True)\n",
        "\n",
        "# Display the MEAN values\n",
        "print(\"MEAN values for numerical columns:\")\n",
        "print(means)"
      ],
      "metadata": {
        "colab": {
          "base_uri": "https://localhost:8080/"
        },
        "id": "wGKCzUK-9586",
        "outputId": "da6fc700-eac8-4204-9037-84af8cd776f1"
      },
      "execution_count": 6,
      "outputs": [
        {
          "output_type": "stream",
          "name": "stdout",
          "text": [
            "MEAN values for numerical columns:\n",
            "Google                  91.382263\n",
            "bing                     2.993368\n",
            "Yahoo!                   2.589211\n",
            "Baidu                    0.863684\n",
            "YANDEX                   0.496895\n",
            "YANDEX RU                0.296105\n",
            "Ask Jeeves               0.172368\n",
            "DuckDuckGo               0.251474\n",
            "Naver                    0.146421\n",
            "AOL                      0.098526\n",
            "Haosou                   0.083158\n",
            "Sogou                    0.086684\n",
            "Babylon                  0.033263\n",
            "Shenma                   0.053421\n",
            "Seznam                   0.048158\n",
            "Conduit                  0.028632\n",
            "MSN                      0.057211\n",
            "Mail.ru                  0.024421\n",
            "Ecosia                   0.037842\n",
            "Webcrawler               0.016842\n",
            "Daum                     0.017632\n",
            "CocCoc                   0.030842\n",
            "StartPagina (Google)     0.015579\n",
            "AVG Search               0.011474\n",
            "SweetIM                  0.009579\n",
            "Windows Live             0.044053\n",
            "Other                    0.106368\n",
            "dtype: float64\n"
          ]
        }
      ]
    },
    {
      "cell_type": "markdown",
      "source": [
        "MEDIAN"
      ],
      "metadata": {
        "id": "-ilbjOnTQLwv"
      }
    },
    {
      "cell_type": "code",
      "source": [
        "import pandas as pd\n",
        "# Load the CSV file\n",
        "file_path = \"/content/search_engine_data.csv\"  # Replace with the path to your file\n",
        "data = pd.read_csv(file_path)\n",
        "\n",
        "# Calculate the MEDIAN for numerical columns\n",
        "medians = data.median(numeric_only=True)\n",
        "\n",
        "import pandas as pd\n",
        "# Load the CSV file\n",
        "file_path = \"/content/search_engine_data.csv\"  # Replace with the path to your file\n",
        "data = pd.read_csv(file_path)\n",
        "\n",
        "# Calculate the MEDIAN for numerical columns\n",
        "medians = data.median(numeric_only=True)\n",
        "\n",
        "# Display the MEDIAN values\n",
        "print(\"MEDIAN values for numerical columns:\")\n",
        "print(medians)"
      ],
      "metadata": {
        "colab": {
          "base_uri": "https://localhost:8080/"
        },
        "id": "ElmujT8RQLbX",
        "outputId": "901aa44b-a325-423d-dd76-f7f791af6c80"
      },
      "execution_count": 10,
      "outputs": [
        {
          "output_type": "stream",
          "name": "stdout",
          "text": [
            "MEDIAN values for numerical columns:\n",
            "Google                  91.560\n",
            "bing                     3.045\n",
            "Yahoo!                   2.430\n",
            "Baidu                    0.890\n",
            "YANDEX                   0.345\n",
            "YANDEX RU                0.320\n",
            "Ask Jeeves               0.040\n",
            "DuckDuckGo               0.130\n",
            "Naver                    0.150\n",
            "AOL                      0.060\n",
            "Haosou                   0.060\n",
            "Sogou                    0.070\n",
            "Babylon                  0.000\n",
            "Shenma                   0.020\n",
            "Seznam                   0.040\n",
            "Conduit                  0.000\n",
            "MSN                      0.005\n",
            "Mail.ru                  0.010\n",
            "Ecosia                   0.000\n",
            "Webcrawler               0.010\n",
            "Daum                     0.010\n",
            "CocCoc                   0.010\n",
            "StartPagina (Google)     0.010\n",
            "AVG Search               0.000\n",
            "SweetIM                  0.000\n",
            "Windows Live             0.000\n",
            "Other                    0.090\n",
            "dtype: float64\n"
          ]
        }
      ]
    },
    {
      "cell_type": "markdown",
      "source": [
        "MODE"
      ],
      "metadata": {
        "id": "9hrK4bLnQNaK"
      }
    },
    {
      "cell_type": "code",
      "source": [
        "import pandas as pd\n",
        "\n",
        "# Load the CSV file\n",
        "file_path = \"/content/search_engine_data.csv\"  # Replace with the path to your file\n",
        "data = pd.read_csv(file_path)\n",
        "\n",
        "# Calculate the MODE for numerical columns\n",
        "modes = data.mode(numeric_only=True).iloc[0]\n",
        "\n",
        "# Display the MODE values\n",
        "print(\"\\nMODE values for numerical columns:\")\n",
        "print(modes)"
      ],
      "metadata": {
        "colab": {
          "base_uri": "https://localhost:8080/"
        },
        "id": "FAv7kY-0QD5l",
        "outputId": "37f18627-bd0c-48f6-8c46-30558021e54d"
      },
      "execution_count": 9,
      "outputs": [
        {
          "output_type": "stream",
          "name": "stdout",
          "text": [
            "\n",
            "Mode values for numerical columns:\n",
            "Google                  90.60\n",
            "bing                     0.00\n",
            "Yahoo!                   1.47\n",
            "Baidu                    0.87\n",
            "YANDEX                   0.00\n",
            "YANDEX RU                0.00\n",
            "Ask Jeeves               0.00\n",
            "DuckDuckGo               0.00\n",
            "Naver                    0.17\n",
            "AOL                      0.00\n",
            "Haosou                   0.00\n",
            "Sogou                    0.00\n",
            "Babylon                  0.00\n",
            "Shenma                   0.00\n",
            "Seznam                   0.03\n",
            "Conduit                  0.00\n",
            "MSN                      0.00\n",
            "Mail.ru                  0.00\n",
            "Ecosia                   0.00\n",
            "Webcrawler               0.00\n",
            "Daum                     0.01\n",
            "CocCoc                   0.00\n",
            "StartPagina (Google)     0.00\n",
            "AVG Search               0.00\n",
            "SweetIM                  0.00\n",
            "Windows Live             0.00\n",
            "Other                    0.05\n",
            "Name: 0, dtype: float64\n"
          ]
        }
      ]
    },
    {
      "cell_type": "markdown",
      "source": [
        "RANGE\n"
      ],
      "metadata": {
        "id": "Vzcri6kySIkM"
      }
    },
    {
      "cell_type": "code",
      "source": [
        "import pandas as pd\n",
        "\n",
        "# Load the CSV file\n",
        "file_path = \"/content/search_engine_data.csv\"  # Replace with the path to your file\n",
        "data = pd.read_csv(file_path)\n",
        "\n",
        "# Calculate the range for numerical columns (max - min)\n",
        "ranges = data.max(numeric_only=True) - data.min(numeric_only=True)\n",
        "\n",
        "\n",
        "# Display the RANGE values\n",
        "print(\"\\nRange values for numerical columns:\")\n",
        "print(ranges)"
      ],
      "metadata": {
        "colab": {
          "base_uri": "https://localhost:8080/"
        },
        "id": "d3fbPdnDSKtm",
        "outputId": "36e3efcd-1f37-479f-f22e-e02480a64a6d"
      },
      "execution_count": 11,
      "outputs": [
        {
          "output_type": "stream",
          "name": "stdout",
          "text": [
            "\n",
            "Range values for numerical columns:\n",
            "Google                  4.64\n",
            "bing                    4.22\n",
            "Yahoo!                  4.93\n",
            "Baidu                   2.18\n",
            "YANDEX                  2.78\n",
            "YANDEX RU               0.68\n",
            "Ask Jeeves              0.62\n",
            "DuckDuckGo              0.71\n",
            "Naver                   0.50\n",
            "AOL                     0.51\n",
            "Haosou                  0.58\n",
            "Sogou                   0.49\n",
            "Babylon                 0.54\n",
            "Shenma                  0.62\n",
            "Seznam                  0.32\n",
            "Conduit                 0.44\n",
            "MSN                     1.46\n",
            "Mail.ru                 0.12\n",
            "Ecosia                  0.15\n",
            "Webcrawler              0.13\n",
            "Daum                    0.15\n",
            "CocCoc                  0.26\n",
            "StartPagina (Google)    0.07\n",
            "AVG Search              0.18\n",
            "SweetIM                 0.16\n",
            "Windows Live            1.86\n",
            "Other                   0.64\n",
            "dtype: float64\n"
          ]
        }
      ]
    },
    {
      "cell_type": "markdown",
      "source": [
        "VARIANCE"
      ],
      "metadata": {
        "id": "9tE7VFddSyPI"
      }
    },
    {
      "cell_type": "code",
      "source": [
        "import pandas as pd\n",
        "\n",
        "# Load the CSV file\n",
        "file_path = \"/content/search_engine_data.csv\"  # Replace with the path to your file\n",
        "data = pd.read_csv(file_path)\n",
        "\n",
        "# Calculate the variance for numerical columns\n",
        "variances = data.var(numeric_only=True)\n",
        "\n",
        "print(\"\\nVariance values for numerical columns:\")\n",
        "print(variances)"
      ],
      "metadata": {
        "colab": {
          "base_uri": "https://localhost:8080/"
        },
        "id": "8VJTss3DS2Dn",
        "outputId": "00b9d827-9454-4e2a-8b40-f054036f103a"
      },
      "execution_count": 12,
      "outputs": [
        {
          "output_type": "stream",
          "name": "stdout",
          "text": [
            "\n",
            "Variance values for numerical columns:\n",
            "Google                  1.030008\n",
            "bing                    0.437558\n",
            "Yahoo!                  1.290515\n",
            "Baidu                   0.187969\n",
            "YANDEX                  0.274770\n",
            "YANDEX RU               0.034638\n",
            "Ask Jeeves              0.037901\n",
            "DuckDuckGo              0.062175\n",
            "Naver                   0.007304\n",
            "AOL                     0.013497\n",
            "Haosou                  0.008458\n",
            "Sogou                   0.009676\n",
            "Babylon                 0.011401\n",
            "Shenma                  0.009864\n",
            "Seznam                  0.001782\n",
            "Conduit                 0.008009\n",
            "MSN                     0.047929\n",
            "Mail.ru                 0.000828\n",
            "Ecosia                  0.002966\n",
            "Webcrawler              0.000561\n",
            "Daum                    0.000338\n",
            "CocCoc                  0.002922\n",
            "StartPagina (Google)    0.000396\n",
            "AVG Search              0.001002\n",
            "SweetIM                 0.000963\n",
            "Windows Live            0.074072\n",
            "Other                   0.007485\n",
            "dtype: float64\n"
          ]
        }
      ]
    },
    {
      "cell_type": "markdown",
      "source": [
        "Skewness"
      ],
      "metadata": {
        "id": "lokw5bByTMZq"
      }
    },
    {
      "cell_type": "code",
      "source": [
        "import pandas as pd\n",
        "\n",
        "# Load the CSV file\n",
        "file_path = \"/content/search_engine_data.csv\"  # Replace with the path to your file\n",
        "data = pd.read_csv(file_path)\n",
        "\n",
        "# Calculate the skewness for numerical columns\n",
        "skewness = data.skew(numeric_only=True)\n",
        "\n",
        "print(\"\\nSkewness values for numerical columns:\")\n",
        "print(skewness)"
      ],
      "metadata": {
        "colab": {
          "base_uri": "https://localhost:8080/"
        },
        "id": "vq-thaV9TdU7",
        "outputId": "d9c88642-4116-4a18-f188-5e9addb63164"
      },
      "execution_count": 13,
      "outputs": [
        {
          "output_type": "stream",
          "name": "stdout",
          "text": [
            "\n",
            "Skewness values for numerical columns:\n",
            "Google                 -0.436841\n",
            "bing                   -2.265745\n",
            "Yahoo!                  0.616212\n",
            "Baidu                   0.401504\n",
            "YANDEX                  1.567743\n",
            "YANDEX RU              -0.242770\n",
            "Ask Jeeves              0.604164\n",
            "DuckDuckGo              0.457329\n",
            "Naver                   0.812690\n",
            "AOL                     1.251548\n",
            "Haosou                  2.381188\n",
            "Sogou                   1.796050\n",
            "Babylon                 3.650937\n",
            "Shenma                  3.447362\n",
            "Seznam                  4.914905\n",
            "Conduit                 3.415258\n",
            "MSN                     5.802603\n",
            "Mail.ru                 1.083195\n",
            "Ecosia                  0.824065\n",
            "Webcrawler              2.150351\n",
            "Daum                    3.967198\n",
            "CocCoc                  2.169972\n",
            "StartPagina (Google)    1.066916\n",
            "AVG Search              3.789981\n",
            "SweetIM                 3.780344\n",
            "Windows Live            6.196375\n",
            "Other                   3.548195\n",
            "dtype: float64\n"
          ]
        }
      ]
    }
  ]
}