{
  "nbformat": 4,
  "nbformat_minor": 0,
  "metadata": {
    "colab": {
      "provenance": []
    },
    "kernelspec": {
      "name": "python3",
      "display_name": "Python 3"
    },
    "language_info": {
      "name": "python"
    }
  },
  "cells": [
    {
      "cell_type": "markdown",
      "source": [
        "binomial distribution using random\n"
      ],
      "metadata": {
        "id": "9VSZVnq2Wc4l"
      }
    },
    {
      "cell_type": "code",
      "source": [
        "import numpy as np\n",
        "\n",
        "# Parameters for the binomial distribution\n",
        "n = 10    # number of trials\n",
        "p = 0.5   # probability of success\n",
        "size = 1000  # generate 1000 random numbers\n",
        "\n",
        "# Generate random numbers\n",
        "random_numbers = np.random.binomial(n, p, size)\n",
        "\n",
        "# Display some of the random numbers\n",
        "print(random_numbers[:10])\n",
        "\n",
        "# Optionally visualize the distribution\n",
        "import matplotlib.pyplot as plt\n",
        "\n",
        "plt.hist(random_numbers, bins=range(n+2), alpha=0.75, edgecolor='black')\n",
        "plt.title(\"Binomial Distribution (n=10, p=0.5)\")\n",
        "plt.xlabel(\"Number of successes\")\n",
        "plt.ylabel(\"Frequency\")\n",
        "plt.show()\n",
        "\n",
        "# has context menu"
      ],
      "metadata": {
        "colab": {
          "base_uri": "https://localhost:8080/",
          "height": 489
        },
        "id": "1KhJft17WgLF",
        "outputId": "e894304e-8340-4287-fddc-b1121c312e0e"
      },
      "execution_count": 7,
      "outputs": [
        {
          "output_type": "stream",
          "name": "stdout",
          "text": [
            "[3 4 7 5 5 7 6 7 3 7]\n"
          ]
        },
        {
          "output_type": "display_data",
          "data": {
            "text/plain": [
              "<Figure size 640x480 with 1 Axes>"
            ],
            "image/png": "[encoded data removed]"
          },
          "metadata": {}
        }
      ]
    },
    {
      "cell_type": "markdown",
      "source": [
        "reading ab csv file\n"
      ],
      "metadata": {
        "id": "itUgRRXsWoQd"
      }
    },
    {
      "cell_type": "code",
      "execution_count": 5,
      "metadata": {
        "colab": {
          "base_uri": "https://localhost:8080/"
        },
        "id": "wSZnl_SaVdXG",
        "outputId": "415f2b3a-f23f-483e-bb4d-99a9ea7b38f9"
      },
      "outputs": [
        {
          "output_type": "stream",
          "name": "stdout",
          "text": [
            "   User ID Group  Page Views  Time Spent Conversion   Device          Location\n",
            "0    14292     B           3         424         No   Mobile  Northern Ireland\n",
            "1    11682     A           9         342         No   Mobile          Scotland\n",
            "2    19825     A           2         396         No  Desktop  Northern Ireland\n",
            "3    16080     B           4         318         No  Desktop             Wales\n",
            "4    18851     A           1         338        Yes  Desktop          Scotland\n",
            "   User ID Group  Page Views  Time Spent Conversion   Device          Location\n",
            "0    14292     B           3         424         No   Mobile  Northern Ireland\n",
            "1    11682     A           9         342         No   Mobile          Scotland\n",
            "2    19825     A           2         396         No  Desktop  Northern Ireland\n",
            "3    16080     B           4         318         No  Desktop             Wales\n",
            "4    18851     A           1         338        Yes  Desktop          Scotland\n"
          ]
        }
      ],
      "source": [
        "import pandas as pd\n",
        "\n",
        "# Provide the file path (update with your file location)\n",
        "file_path = '/content/ab_testing.csv'\n",
        "import pandas as pd\n",
        "\n",
        "# Provide the file path (update with your file location)\n",
        "file_path = '/content/ab_testing.csv'\n",
        "\n",
        "# Load the CSV file into a DataFrame\n",
        "data = pd.read_csv(file_path)\n",
        "\n",
        "# Display the first few rows of the DataFrame\n",
        "print(data.head())\n",
        "\n",
        "\n",
        "print(data.head())\n"
      ]
    },
    {
      "cell_type": "markdown",
      "source": [
        "load the data"
      ],
      "metadata": {
        "id": "Xe-MkNwgXGNr"
      }
    },
    {
      "cell_type": "code",
      "source": [
        "import pandas as pd\n",
        "from scipy.stats import ttest_ind, chi2_contingency\n",
        "\n",
        "# Step 1: Load the data\n",
        "file_path = '/content/ab_testing.csv'  #  file path\n",
        "data = pd.read_csv(file_path)\n"
      ],
      "metadata": {
        "id": "keL5NIhHWr_K"
      },
      "execution_count": 8,
      "outputs": []
    },
    {
      "cell_type": "markdown",
      "source": [
        "Inspect the data"
      ],
      "metadata": {
        "id": "35Ep5Q5lXH1g"
      }
    },
    {
      "cell_type": "code",
      "source": [
        "print(data.head())\n",
        "print(data.info())\n"
      ],
      "metadata": {
        "colab": {
          "base_uri": "https://localhost:8080/"
        },
        "id": "L8NN3gxeXKVq",
        "outputId": "ecaf2191-2e09-4c98-bf18-20c4db06cce8"
      },
      "execution_count": 9,
      "outputs": [
        {
          "output_type": "stream",
          "name": "stdout",
          "text": [
            "   User ID Group  Page Views  Time Spent Conversion   Device          Location\n",
            "0    14292     B           3         424         No   Mobile  Northern Ireland\n",
            "1    11682     A           9         342         No   Mobile          Scotland\n",
            "2    19825     A           2         396         No  Desktop  Northern Ireland\n",
            "3    16080     B           4         318         No  Desktop             Wales\n",
            "4    18851     A           1         338        Yes  Desktop          Scotland\n",
            "<class 'pandas.core.frame.DataFrame'>\n",
            "RangeIndex: 5000 entries, 0 to 4999\n",
            "Data columns (total 7 columns):\n",
            " #   Column      Non-Null Count  Dtype \n",
            "---  ------      --------------  ----- \n",
            " 0   User ID     5000 non-null   int64 \n",
            " 1   Group       5000 non-null   object\n",
            " 2   Page Views  5000 non-null   int64 \n",
            " 3   Time Spent  5000 non-null   int64 \n",
            " 4   Conversion  5000 non-null   object\n",
            " 5   Device      5000 non-null   object\n",
            " 6   Location    5000 non-null   object\n",
            "dtypes: int64(3), object(4)\n",
            "memory usage: 273.6+ KB\n",
            "None\n"
          ]
        }
      ]
    },
    {
      "cell_type": "markdown",
      "source": [
        " Separate data by group"
      ],
      "metadata": {
        "id": "ASKmLYB5XN0i"
      }
    },
    {
      "cell_type": "code",
      "source": [
        "control = data[data['User ID'] == 'Control']['Group']\n",
        "treatment = data[data['User ID'] == 'Treatment']['Group']"
      ],
      "metadata": {
        "id": "_TkfkZF5YhMD"
      },
      "execution_count": 16,
      "outputs": []
    },
    {
      "cell_type": "markdown",
      "source": [
        "Perform statistical test"
      ],
      "metadata": {
        "id": "ZbLuX0RMYlp6"
      }
    },
    {
      "cell_type": "code",
      "source": [
        "t_stat, p_value = ttest_ind(control, treatment, equal_var=False)  # Welch's t-test\n",
        "print(f\"T-statistic: {t_stat}, P-value: {p_value}\")"
      ],
      "metadata": {
        "colab": {
          "base_uri": "https://localhost:8080/"
        },
        "id": "9vYPWTSTYmbf",
        "outputId": "07fe6d90-441c-410f-bb40-c3620ad3dc4e"
      },
      "execution_count": 17,
      "outputs": [
        {
          "output_type": "stream",
          "name": "stdout",
          "text": [
            "T-statistic: nan, P-value: nan\n"
          ]
        }
      ]
    },
    {
      "cell_type": "markdown",
      "source": [
        "Interpret results"
      ],
      "metadata": {
        "id": "rfzzbFRvYvLV"
      }
    },
    {
      "cell_type": "code",
      "source": [
        "if p_value < 0.05:\n",
        "    print(\"Reject the null hypothesis: Significant difference between groups.\")\n",
        "else:\n",
        "    print(\"Fail to reject the null hypothesis: No significant difference between groups.\")\n"
      ],
      "metadata": {
        "colab": {
          "base_uri": "https://localhost:8080/"
        },
        "id": "aBEuwqyqY1Ws",
        "outputId": "1d94fe30-47c2-4b3d-b114-b1128882e11a"
      },
      "execution_count": 18,
      "outputs": [
        {
          "output_type": "stream",
          "name": "stdout",
          "text": [
            "Fail to reject the null hypothesis: No significant difference between groups.\n"
          ]
        }
      ]
    },
    {
      "cell_type": "markdown",
      "source": [
        "TOTAL SINGLE CODE\n"
      ],
      "metadata": {
        "id": "aPaFe_7WYzoD"
      }
    },
    {
      "cell_type": "code",
      "source": [
        "import pandas as pd\n",
        "from scipy.stats import ttest_ind, chi2_contingency\n",
        "\n",
        "# Step 1: Load the data\n",
        "file_path = '/content/ab_testing.csv'  # Replace with your actual file path\n",
        "data = pd.read_csv(file_path)\n",
        "\n",
        "# Step 2: Inspect the data\n",
        "print(data.head())\n",
        "print(data.info())\n",
        "\n",
        "# Example assumptions:\n",
        "# 'group' column indicates 'Control' or 'Treatment'\n",
        "# 'metric' column contains the outcome (continuous or binary)\n",
        "\n",
        "# Step 3: Separate data by group\n",
        "control = data[data['User ID'] == 'Control']['Group']\n",
        "treatment = data[data['User ID'] == 'Treatment']['Group']\n",
        "\n",
        "# Step 4: Perform statistical test\n",
        "# For continuous outcomes: Independent t-test\n",
        "t_stat, p_value = ttest_ind(control, treatment, equal_var=False)  # Welch's t-test\n",
        "print(f\"T-statistic: {t_stat}, P-value: {p_value}\")\n",
        "\n",
        "# For binary outcomes: Chi-squared test\n",
        "if data['User ID'].nunique() == 2:  # Ensure the metric is binary\n",
        "    contingency_table = pd.crosstab(data['group'], data['metric'])\n",
        "    chi2, chi2_p, _, _ = chi2_contingency(contingency_table)\n",
        "    print(f\"Chi-squared Statistic: {chi2}, P-value: {chi2_p}\")\n",
        "\n",
        "# Step 5: Interpret results\n",
        "if p_value < 0.05:\n",
        "    print(\"Reject the null hypothesis: Significant difference between groups.\")\n",
        "else:\n",
        "    print(\"Fail to reject the null hypothesis: No significant difference between groups.\")\n"
      ],
      "metadata": {
        "colab": {
          "base_uri": "https://localhost:8080/"
        },
        "id": "UuseEQ1NYetd",
        "outputId": "8b7866e9-7ee5-4570-aca5-11717696f8a7"
      },
      "execution_count": 19,
      "outputs": [
        {
          "output_type": "stream",
          "name": "stdout",
          "text": [
            "   User ID Group  Page Views  Time Spent Conversion   Device          Location\n",
            "0    14292     B           3         424         No   Mobile  Northern Ireland\n",
            "1    11682     A           9         342         No   Mobile          Scotland\n",
            "2    19825     A           2         396         No  Desktop  Northern Ireland\n",
            "3    16080     B           4         318         No  Desktop             Wales\n",
            "4    18851     A           1         338        Yes  Desktop          Scotland\n",
            "<class 'pandas.core.frame.DataFrame'>\n",
            "RangeIndex: 5000 entries, 0 to 4999\n",
            "Data columns (total 7 columns):\n",
            " #   Column      Non-Null Count  Dtype \n",
            "---  ------      --------------  ----- \n",
            " 0   User ID     5000 non-null   int64 \n",
            " 1   Group       5000 non-null   object\n",
            " 2   Page Views  5000 non-null   int64 \n",
            " 3   Time Spent  5000 non-null   int64 \n",
            " 4   Conversion  5000 non-null   object\n",
            " 5   Device      5000 non-null   object\n",
            " 6   Location    5000 non-null   object\n",
            "dtypes: int64(3), object(4)\n",
            "memory usage: 273.6+ KB\n",
            "None\n",
            "T-statistic: nan, P-value: nan\n",
            "Fail to reject the null hypothesis: No significant difference between groups.\n"
          ]
        }
      ]
    }
  ]
}