{
  "nbformat": 4,
  "nbformat_minor": 0,
  "metadata": {
    "colab": {
      "provenance": []
    },
    "kernelspec": {
      "name": "python3",
      "display_name": "Python 3"
    },
    "language_info": {
      "name": "python"
    }
  },
  "cells": [
    {
      "cell_type": "markdown",
      "source": [
        "Data Loading and Initial Inspection"
      ],
      "metadata": {
        "id": "qV8skW7M2-cA"
      }
    },
    {
      "cell_type": "code",
      "execution_count": 2,
      "metadata": {
        "colab": {
          "base_uri": "https://localhost:8080/"
        },
        "id": "AyrPeNdjysfH",
        "outputId": "0d6604f5-f8c9-4b06-e4f1-03ecbebf5f73"
      },
      "outputs": [
        {
          "output_type": "stream",
          "name": "stdout",
          "text": [
            "   Unnamed: 0  reviewerName  overall  \\\n",
            "0           0           NaN      4.0   \n",
            "1           1          0mie      5.0   \n",
            "2           2           1K3      4.0   \n",
            "3           3           1m2      5.0   \n",
            "4           4  2&amp;1/2Men      5.0   \n",
            "\n",
            "                                          reviewText  reviewTime  day_diff  \\\n",
            "0                                         No issues.  2014-07-23       138   \n",
            "1  Purchased this for my device, it worked as adv...  2013-10-25       409   \n",
            "2  it works as expected. I should have sprung for...  2012-12-23       715   \n",
            "3  This think has worked out great.Had a diff. br...  2013-11-21       382   \n",
            "4  Bought it with Retail Packaging, arrived legit...  2013-07-13       513   \n",
            "\n",
            "   helpful_yes  helpful_no  total_vote  score_pos_neg_diff  \\\n",
            "0            0           0           0                   0   \n",
            "1            0           0           0                   0   \n",
            "2            0           0           0                   0   \n",
            "3            0           0           0                   0   \n",
            "4            0           0           0                   0   \n",
            "\n",
            "   score_average_rating  wilson_lower_bound  \n",
            "0                   0.0                 0.0  \n",
            "1                   0.0                 0.0  \n",
            "2                   0.0                 0.0  \n",
            "3                   0.0                 0.0  \n",
            "4                   0.0                 0.0  \n",
            "<class 'pandas.core.frame.DataFrame'>\n",
            "RangeIndex: 4915 entries, 0 to 4914\n",
            "Data columns (total 12 columns):\n",
            " #   Column                Non-Null Count  Dtype  \n",
            "---  ------                --------------  -----  \n",
            " 0   Unnamed: 0            4915 non-null   int64  \n",
            " 1   reviewerName          4914 non-null   object \n",
            " 2   overall               4915 non-null   float64\n",
            " 3   reviewText            4914 non-null   object \n",
            " 4   reviewTime            4915 non-null   object \n",
            " 5   day_diff              4915 non-null   int64  \n",
            " 6   helpful_yes           4915 non-null   int64  \n",
            " 7   helpful_no            4915 non-null   int64  \n",
            " 8   total_vote            4915 non-null   int64  \n",
            " 9   score_pos_neg_diff    4915 non-null   int64  \n",
            " 10  score_average_rating  4915 non-null   float64\n",
            " 11  wilson_lower_bound    4915 non-null   float64\n",
            "dtypes: float64(3), int64(6), object(3)\n",
            "memory usage: 460.9+ KB\n",
            "None\n",
            "        Unnamed: 0      overall     day_diff  helpful_yes   helpful_no  \\\n",
            "count  4915.000000  4915.000000  4915.000000  4915.000000  4915.000000   \n",
            "mean   2457.000000     4.587589   437.367040     1.311089     0.210376   \n",
            "std    1418.982617     0.996845   209.439871    41.619161     4.023296   \n",
            "min       0.000000     1.000000     1.000000     0.000000     0.000000   \n",
            "25%    1228.500000     5.000000   281.000000     0.000000     0.000000   \n",
            "50%    2457.000000     5.000000   431.000000     0.000000     0.000000   \n",
            "75%    3685.500000     5.000000   601.000000     0.000000     0.000000   \n",
            "max    4914.000000     5.000000  1064.000000  1952.000000   183.000000   \n",
            "\n",
            "        total_vote  score_pos_neg_diff  score_average_rating  \\\n",
            "count  4915.000000         4915.000000           4915.000000   \n",
            "mean      1.521465            1.100712              0.075468   \n",
            "std      44.123095           39.367949              0.256062   \n",
            "min       0.000000         -130.000000              0.000000   \n",
            "25%       0.000000            0.000000              0.000000   \n",
            "50%       0.000000            0.000000              0.000000   \n",
            "75%       0.000000            0.000000              0.000000   \n",
            "max    2020.000000         1884.000000              1.000000   \n",
            "\n",
            "       wilson_lower_bound  \n",
            "count         4915.000000  \n",
            "mean             0.020053  \n",
            "std              0.077187  \n",
            "min              0.000000  \n",
            "25%              0.000000  \n",
            "50%              0.000000  \n",
            "75%              0.000000  \n",
            "max              0.957544  \n"
          ]
        }
      ],
      "source": [
        "# prompt: Data Loading and Initial Inspection\n",
        "\n",
        "import pandas as pd\n",
        "\n",
        "# Install necessary libraries if not already installed\n",
        "try:\n",
        "    import pandas as pd\n",
        "except ImportError:\n",
        "    !pip install pandas\n",
        "\n",
        "# Load the dataset (replace 'your_dataset.csv' with the actual file name)\n",
        "try:\n",
        "    df = pd.read_csv('/content/amazon_reviews.csv')\n",
        "except FileNotFoundError:\n",
        "    print(\"Error: '/content/amazon_reviews.csv' not found. Please upload the file or provide the correct path.\")\n",
        "    df = None  # Set df to None to indicate an error\n",
        "\n",
        "\n",
        "# Display the first few rows of the dataset\n",
        "if df is not None:\n",
        "    print(df.head())\n",
        "\n",
        "# Display basic information about the dataset\n",
        "if df is not None:\n",
        "    print(df.info())\n",
        "\n",
        "\n",
        "# Display descriptive statistics\n",
        "if df is not None:\n",
        "    print(df.describe())\n"
      ]
    },
    {
      "cell_type": "markdown",
      "source": [
        "Data Cleaning and Preprocessing"
      ],
      "metadata": {
        "id": "OzPFat0U3Ohe"
      }
    },
    {
      "cell_type": "code",
      "source": [
        "# prompt: Data Cleaning and Preprocessing\n",
        "\n",
        "import pandas as pd\n",
        "\n",
        "# Data Cleaning and Preprocessing\n",
        "if df is not None:\n",
        "    # Handling Missing Values\n",
        "    # Check for missing values in each column\n",
        "    print(df.isnull().sum())\n",
        "\n",
        "    # Example: Fill missing values in the 'review_body' column with an empty string\n",
        "    if 'review_body' in df.columns:\n",
        "        df['review_body'].fillna('', inplace=True)\n",
        "\n",
        "    # Example: Remove rows with missing values in the 'star_rating' column\n",
        "    if 'star_rating' in df.columns:\n",
        "        df.dropna(subset=['star_rating'], inplace=True)\n",
        "\n",
        "\n",
        "    # Removing Duplicates\n",
        "    # Remove duplicate rows based on all columns\n",
        "    df.drop_duplicates(inplace=True)\n",
        "\n",
        "    # Data Type Conversion\n",
        "    # Convert 'star_rating' column to integer type if it is not already\n",
        "    if 'star_rating' in df.columns:\n",
        "        try:\n",
        "            df['star_rating'] = df['star_rating'].astype(int)\n",
        "        except ValueError:\n",
        "            print(\"Error converting 'star_rating' to integer. Check for non-numeric values.\")\n",
        "\n",
        "\n",
        "    # Removing Irrelevant Columns (example)\n",
        "    # Remove columns that are not needed for the analysis\n",
        "    columns_to_remove = ['marketplace', 'customer_id']  # Replace with the actual columns to remove\n",
        "    for col in columns_to_remove:\n",
        "        if col in df.columns:\n",
        "            df.drop(col, axis=1, inplace=True)\n",
        "\n",
        "    # Display the updated dataset information\n",
        "    print(df.info())"
      ],
      "metadata": {
        "colab": {
          "base_uri": "https://localhost:8080/"
        },
        "id": "nzrsUHwv3RAt",
        "outputId": "86fd1e8f-0369-4052-b388-d6ba3654b712"
      },
      "execution_count": 3,
      "outputs": [
        {
          "output_type": "stream",
          "name": "stdout",
          "text": [
            "Unnamed: 0              0\n",
            "reviewerName            1\n",
            "overall                 0\n",
            "reviewText              1\n",
            "reviewTime              0\n",
            "day_diff                0\n",
            "helpful_yes             0\n",
            "helpful_no              0\n",
            "total_vote              0\n",
            "score_pos_neg_diff      0\n",
            "score_average_rating    0\n",
            "wilson_lower_bound      0\n",
            "dtype: int64\n",
            "<class 'pandas.core.frame.DataFrame'>\n",
            "RangeIndex: 4915 entries, 0 to 4914\n",
            "Data columns (total 12 columns):\n",
            " #   Column                Non-Null Count  Dtype  \n",
            "---  ------                --------------  -----  \n",
            " 0   Unnamed: 0            4915 non-null   int64  \n",
            " 1   reviewerName          4914 non-null   object \n",
            " 2   overall               4915 non-null   float64\n",
            " 3   reviewText            4914 non-null   object \n",
            " 4   reviewTime            4915 non-null   object \n",
            " 5   day_diff              4915 non-null   int64  \n",
            " 6   helpful_yes           4915 non-null   int64  \n",
            " 7   helpful_no            4915 non-null   int64  \n",
            " 8   total_vote            4915 non-null   int64  \n",
            " 9   score_pos_neg_diff    4915 non-null   int64  \n",
            " 10  score_average_rating  4915 non-null   float64\n",
            " 11  wilson_lower_bound    4915 non-null   float64\n",
            "dtypes: float64(3), int64(6), object(3)\n",
            "memory usage: 460.9+ KB\n",
            "None\n"
          ]
        }
      ]
    },
    {
      "cell_type": "markdown",
      "source": [
        "Exploratory Data Analysis (EDA)"
      ],
      "metadata": {
        "id": "-xO-5nYF3Uc3"
      }
    },
    {
      "cell_type": "code",
      "source": [
        "# prompt: 1.\tPlot the distribution FOR VARIOUS COLOUMS ON ABOVE DATASET ON OVERALL\n",
        "\n",
        "import matplotlib.pyplot as plt\n",
        "import seaborn as sns\n",
        "\n",
        "# Assuming 'df' is your DataFrame from the previous code\n",
        "\n",
        "if df is not None:\n",
        "    # List of columns to plot distributions for\n",
        "    columns_to_plot = ['star_rating', 'helpful_votes', 'total_votes']  # Replace with your desired columns\n",
        "\n",
        "    # Create subplots for each column\n",
        "    num_plots = len(columns_to_plot)\n",
        "    fig, axes = plt.subplots(nrows=num_plots, ncols=1, figsize=(8, 6 * num_plots))  # Adjust figsize as needed\n",
        "\n",
        "    # Iterate through the columns and create the plots\n",
        "    for i, column in enumerate(columns_to_plot):\n",
        "        if column in df.columns:\n",
        "            ax = axes[i] if num_plots > 1 else axes # Access the correct axis for subplots\n",
        "            sns.histplot(df[column], kde=True, ax=ax)  # Use histplot for distribution\n",
        "            ax.set_title(f'Distribution of {column}')\n",
        "            ax.set_xlabel(column)\n",
        "            ax.set_ylabel('Frequency')\n",
        "        else:\n",
        "            print(f\"Warning: Column '{column}' not found in the DataFrame.\")\n",
        "\n",
        "    plt.tight_layout()\n",
        "    plt.show()"
      ],
      "metadata": {
        "colab": {
          "base_uri": "https://localhost:8080/",
          "height": 1000
        },
        "id": "Px1qCKYf457G",
        "outputId": "2b6d4c41-2afd-41cf-bf52-07725bc5c64c"
      },
      "execution_count": 11,
      "outputs": [
        {
          "output_type": "stream",
          "name": "stdout",
          "text": [
            "Warning: Column 'star_rating' not found in the DataFrame.\n",
            "Warning: Column 'helpful_votes' not found in the DataFrame.\n",
            "Warning: Column 'total_votes' not found in the DataFrame.\n"
          ]
        },
        {
          "output_type": "display_data",
          "data": {
            "text/plain": [
              "<Figure size 800x1800 with 3 Axes>"
            ],
            "image/png": "[encoded data removed]"
          },
          "metadata": {}
        }
      ]
    },
    {
      "cell_type": "markdown",
      "source": [
        "Feature Engineering"
      ],
      "metadata": {
        "id": "iZpcoa5V5RtG"
      }
    },
    {
      "cell_type": "code",
      "source": [
        "# prompt: 4. Feature Engineering FOR ABOVE DATA SET\n",
        "\n",
        "# Feature Engineering\n",
        "\n",
        "if df is not None:\n",
        "    # 1. Review Length:\n",
        "    if 'review_body' in df.columns:\n",
        "        df['review_length'] = df['review_body'].apply(len)\n",
        "\n",
        "    # 2. Helpfulness Ratio:\n",
        "    if 'helpful_votes' in df.columns and 'total_votes' in df.columns:\n",
        "        df['helpfulness_ratio'] = df.apply(lambda row: row['helpful_votes'] / row['total_votes'] if row['total_votes'] > 0 else 0, axis=1)\n",
        "\n",
        "    # 3. Positive/Negative sentiment (example using a basic threshold - refine for better results)\n",
        "    if 'star_rating' in df.columns:\n",
        "        df['sentiment'] = df['star_rating'].apply(lambda rating: 'positive' if rating > 3 else ('negative' if rating < 3 else 'neutral'))\n",
        "\n",
        "\n",
        "    # Display the updated DataFrame with new features\n",
        "    print(df.head())\n",
        "\n",
        "    # Explore the new features (example)\n",
        "    if 'review_length' in df.columns:\n",
        "        sns.histplot(df['review_length'], kde=True)\n",
        "        plt.title('Distribution of Review Length')\n",
        "        plt.show()\n",
        "\n",
        "    if 'helpfulness_ratio' in df.columns:\n",
        "        sns.histplot(df['helpfulness_ratio'], kde=True)\n",
        "        plt.title('Distribution of Helpfulness Ratio')\n",
        "        plt.show()\n",
        "\n",
        "    if 'sentiment' in df.columns:\n",
        "        print(df['sentiment'].value_counts()) # Display sentiment counts\n",
        "        sns.countplot(x='sentiment', data=df)\n",
        "        plt.title('Sentiment Distribution')\n",
        "        plt.show()"
      ],
      "metadata": {
        "colab": {
          "base_uri": "https://localhost:8080/"
        },
        "id": "xP-x9lIc5isD",
        "outputId": "5b589558-fb45-4fc6-ef0d-278a43444ab2"
      },
      "execution_count": 14,
      "outputs": [
        {
          "output_type": "stream",
          "name": "stdout",
          "text": [
            "   Unnamed: 0  reviewerName  overall  \\\n",
            "0           0           NaN      4.0   \n",
            "1           1          0mie      5.0   \n",
            "2           2           1K3      4.0   \n",
            "3           3           1m2      5.0   \n",
            "4           4  2&amp;1/2Men      5.0   \n",
            "\n",
            "                                          reviewText  reviewTime  day_diff  \\\n",
            "0                                         No issues.  2014-07-23       138   \n",
            "1  Purchased this for my device, it worked as adv...  2013-10-25       409   \n",
            "2  it works as expected. I should have sprung for...  2012-12-23       715   \n",
            "3  This think has worked out great.Had a diff. br...  2013-11-21       382   \n",
            "4  Bought it with Retail Packaging, arrived legit...  2013-07-13       513   \n",
            "\n",
            "   helpful_yes  helpful_no  total_vote  score_pos_neg_diff  \\\n",
            "0            0           0           0                   0   \n",
            "1            0           0           0                   0   \n",
            "2            0           0           0                   0   \n",
            "3            0           0           0                   0   \n",
            "4            0           0           0                   0   \n",
            "\n",
            "   score_average_rating  wilson_lower_bound  \n",
            "0                   0.0                 0.0  \n",
            "1                   0.0                 0.0  \n",
            "2                   0.0                 0.0  \n",
            "3                   0.0                 0.0  \n",
            "4                   0.0                 0.0  \n"
          ]
        }
      ]
    },
    {
      "cell_type": "markdown",
      "source": [
        "Correlation and Feature Selection"
      ],
      "metadata": {
        "id": "bvX-OjQO5sPM"
      }
    },
    {
      "source": [
        "# prompt: Correlation and Feature Selection FOR ABOVE DATASET\n",
        "\n",
        "import pandas as pd\n",
        "import matplotlib.pyplot as plt\n",
        "import seaborn as sns\n",
        "\n",
        "# ... (previous code)\n",
        "\n",
        "# Correlation and Feature Selection\n",
        "if df is not None:\n",
        "    # Calculate the correlation matrix, considering only numeric columns\n",
        "    correlation_matrix = df.select_dtypes(include=['number']).corr()\n",
        "\n",
        "# prompt: Correlation and Feature Selection FOR ABOVE DATASET\n",
        "\n",
        "import pandas as pd\n",
        "import matplotlib.pyplot as plt\n",
        "import seaborn as sns\n",
        "\n",
        "# ... (previous code)\n",
        "\n",
        "# Correlation and Feature Selection\n",
        "if df is not None:\n",
        "    # Calculate the correlation matrix, considering only numeric columns\n",
        "    correlation_matrix = df.select_dtypes(include=['number']).corr()\n",
        "\n",
        "    # Visualize the correlation matrix using a heatmap\n",
        "    plt.figure(figsize=(12, 8))\n",
        "    sns.heatmap(correlation_matrix)\n",
        "    plt.title('Correlation Matrix')\n",
        "    plt.show()"
      ],
      "cell_type": "code",
      "metadata": {
        "colab": {
          "base_uri": "https://localhost:8080/",
          "height": 514
        },
        "id": "zLRYnnct59ol",
        "outputId": "40941e1a-bb7b-4078-eac1-890a105b77b3"
      },
      "execution_count": 18,
      "outputs": [
        {
          "output_type": "display_data",
          "data": {
            "text/plain": [
              "<Figure size 1200x800 with 2 Axes>"
            ],
            "image/png": "[encoded data removed]"
          },
          "metadata": {}
        }
      ]
    },
    {
      "cell_type": "markdown",
      "source": [
        "Model Building"
      ],
      "metadata": {
        "id": "iWCza-Hp6Ibh"
      }
    },
    {
      "source": [
        "import pandas as pd\n",
        "import matplotlib.pyplot as plt\n",
        "import seaborn as sns\n",
        "from sklearn.model_selection import train_test_split\n",
        "from sklearn.linear_model import LogisticRegression\n",
        "from sklearn.metrics import accuracy_score, classification_report\n",
        "\n",
        "# ... (your data loading and preprocessing code) ...\n",
        "\n",
        "# Feature Engineering\n",
        "if df is not None:\n",
        "    # 1. Review Length:\n",
        "    if 'review_body' in df.columns:\n",
        "        df['review_length'] = df['review_body'].apply(len)\n",
        "\n",
        "    # 2. Helpfulness Ratio:\n",
        "    if 'helpful_votes' in df.columns and 'total_votes' in df.columns:\n",
        "        df['helpfulness_ratio'] = df.apply(lambda row: row['helpful_votes'] / row['total_votes'] if row['total_votes'] > 0 else 0, axis=1)\n",
        "\n",
        "    # 3. Positive/Negative sentiment (example using a basic threshold - refine for better results)\n",
        ""
      ],
      "cell_type": "code",
      "metadata": {
        "id": "elm870oU8qNe"
      },
      "execution_count": 30,
      "outputs": []
    },
    {
      "cell_type": "markdown",
      "source": [
        "Model Optimization"
      ],
      "metadata": {
        "id": "UtpTdbRQ80uq"
      }
    },
    {
      "source": [
        "# prompt: Model Optimization 1.\tPerform hyperparameter tuning for the best model using GridSearchCV.\n",
        "# 2.\tEvaluate the optimized model on the testing set. for given dataset\n",
        "\n",
        "# Remove the unexpected indentation for the 'if' statement\n",
        "if 'star_rating' in df.columns:\n",
        "    df['sentiment'] = df['star_rating'].apply(lambda rating: 'positive' if rating > 3 else ('negative' if rating < 3 else 'neutral'))\n",
        "\n",
        "# The rest of the code should also be dedented to match the level of the 'if' statement\n",
        "# Define features (X) and target variable (y)\n",
        "if {'review_length', 'helpfulness_ratio', 'sentiment', 'star_rating'}.issubset(df.columns):\n",
        "    X = df[['review_length', 'helpfulness_ratio']]  # Select relevant features\n",
        "    y = df['sentiment']  # Target variable\n",
        "\n",
        "    # Convert categorical features to numerical using one-hot encoding\n",
        "    X = pd.get_dummies(X, columns=['helpfulness_ratio'], drop_first = True)\n",
        "\n",
        "\n",
        "    # Split data into training and testing sets\n",
        "    X_train, X_test, y_train, y_test = train_test_split(X, y, test_size=0.2, random_state=42)\n",
        "\n",
        "    # Initialize the Logistic Regression model\n",
        "    model = LogisticRegression()\n",
        "\n",
        "    # Define the hyperparameter grid for GridSearchCV\n",
        "    param_grid = {'C': [0.001, 0.01, 0.1, 1, 10, 100],\n",
        "                  'penalty': ['l1', 'l2']}\n",
        "\n",
        "    # Perform hyperparameter tuning using GridSearchCV\n",
        "    from sklearn.model_selection import GridSearchCV\n",
        "    grid_search = GridSearchCV(model, param_grid, cv=5, scoring='accuracy')  # Use 5-fold cross-validation\n",
        "    grid_search.fit(X_train, y_train)\n",
        "\n",
        "    # Get the best model from GridSearchCV\n",
        "    best_model = grid_search.best_estimator_\n",
        "\n",
        "    # Evaluate the optimized model on the testing set\n",
        "    y_pred = best_model.predict(X_test)\n",
        "    accuracy = accuracy_score(y_test, y_pred)\n",
        "    print(f\"Accuracy of the optimized model: {accuracy}\")\n",
        "    print(classification_report(y_test, y_pred))"
      ],
      "cell_type": "code",
      "metadata": {
        "id": "vhQZWzKV9Uls"
      },
      "execution_count": 34,
      "outputs": []
    },
    {
      "cell_type": "markdown",
      "source": [
        "•\tSHAP or LIME visualizations."
      ],
      "metadata": {
        "id": "kRsnva7w9g_5"
      }
    },
    {
      "source": [
        "# prompt: Model Optimization 1.\tPerform hyperparameter tuning for the best model using GridSearchCV.\n",
        "# 2.\tEvaluate the optimized model on the testing set. for given dataset\n",
        "\n",
        "# Assuming 'df' is your DataFrame\n",
        "\n",
        "if df is not None:\n",
        "    # Remove the unexpected indentation for the 'if' statement\n",
        "    if 'star_rating' in df.columns:\n",
        "        df['sentiment'] = df['star_rating'].apply(lambda rating: 'positive' if rating > 3 else ('negative' if rating < 3 else 'neutral'))\n",
        "\n",
        "    # The rest of the code should also be dedented to match the level of the 'if' statement\n",
        "    # Define features (X) and target variable (y)\n",
        "    if {'review_length', 'helpfulness_ratio', 'sentiment', 'star_rating'}.issubset(df.columns):\n",
        "        X = df[['review_length', 'helpfulness_ratio']]  # Select relevant features\n",
        "        y = df['sentiment']  # Target variable\n",
        "\n",
        "        # Convert categorical features to numerical using one-hot encoding\n",
        "        X = pd.get_dummies(X, columns=['helpfulness_ratio'], drop_first = True)\n",
        "\n",
        "        # Split data into training and testing sets\n",
        "        X_train, X_test, y_train, y_test = train_test_split(X, y, test_size=0.2, random_state=42)\n",
        "\n",
        "        # Initialize the Logistic Regression model\n",
        "        model = LogisticRegression()\n",
        "\n",
        "        # Define the hyperparameter grid for GridSearchCV\n",
        "        param_grid = {'C': [0.001, 0.01, 0.1, 1, 10, 100],\n",
        "                      'penalty': ['l1', 'l2']}\n",
        "\n",
        "        # Perform hyperparameter tuning using GridSearchCV\n",
        "        from sklearn.model_selection import GridSearchCV\n",
        "        grid_search = GridSearchCV(model, param_grid, cv=5, scoring='accuracy')  # Use 5-fold cross-validation\n",
        "        grid_search.fit(X_train, y_train)\n",
        "\n",
        "        # Get the best model from GridSearchCV\n",
        "        best_model = grid_search.best_estimator_  # This line defines 'best_model'\n",
        "\n",
        "        # Evaluate the optimized model on the testing set\n",
        "        y_pred = best_model.predict(X_test)\n",
        "        accuracy = accuracy_score(y_test, y_pred)\n",
        "        print(f\"Accuracy of the optimized model: {accuracy}\")\n",
        "        print(classification_report(y_test, y_pred))"
      ],
      "cell_type": "code",
      "metadata": {
        "id": "N4nKWz2q9wVD"
      },
      "execution_count": 36,
      "outputs": []
    }
  ]
}